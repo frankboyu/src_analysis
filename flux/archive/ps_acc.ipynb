{
 "cells": [
  {
   "cell_type": "code",
   "execution_count": 1,
   "id": "magnetic-grace",
   "metadata": {},
   "outputs": [
    {
     "name": "stdout",
     "output_type": "stream",
     "text": [
      "Welcome to JupyROOT 6.22/06\n"
     ]
    },
    {
     "name": "stderr",
     "output_type": "stream",
     "text": [
      "Matplotlib created a temporary config/cache directory at /tmp/matplotlib-fy_g_bc7 because the default path (/home/jovyan/.cache/matplotlib) is not a writable directory; it is highly recommended to set the MPLCONFIGDIR environment variable to a writable directory, in particular to speed up the import of Matplotlib and to better support multiprocessing.\n"
     ]
    }
   ],
   "source": [
    "import ROOT as root\n",
    "import numpy as np\n",
    "import matplotlib.pyplot as plt"
   ]
  },
  {
   "cell_type": "markdown",
   "id": "right-wisdom",
   "metadata": {},
   "source": [
    "## PS acceptance"
   ]
  },
  {
   "cell_type": "code",
   "execution_count": 12,
   "id": "imperial-person",
   "metadata": {},
   "outputs": [],
   "source": [
    "def PSAcceptance(x, par):\n",
    "    \n",
    "    emin = par[1]\n",
    "    emax = par[2]\n",
    "\n",
    "    if (x >= 2*emin and x < (emin + emax)):\n",
    "        return par[0]*(1-2*emin/x)\n",
    "    elif (x >= (emin + emax) and x < 2*emax):\n",
    "        return par[0]*(2*emax/x - 1)\n",
    "    else:\n",
    "        return 0"
   ]
  },
  {
   "cell_type": "code",
   "execution_count": 13,
   "id": "included-joyce",
   "metadata": {},
   "outputs": [],
   "source": [
    "par = [0.840087, 2.92615, 5.97122]\n",
    "eg = np.linspace(0,13,130)\n",
    "ps_acc = np.empty(130)\n",
    "for i in range(130):\n",
    "    ps_acc[i] = PSAcceptance(eg[i], par)"
   ]
  },
  {
   "cell_type": "code",
   "execution_count": 14,
   "id": "opponent-venue",
   "metadata": {},
   "outputs": [
    {
     "data": {
      "text/plain": [
       "[<matplotlib.lines.Line2D at 0x7fe8c809d3a0>]"
      ]
     },
     "execution_count": 14,
     "metadata": {},
     "output_type": "execute_result"
    },
    {
     "data": {
      "image/png": "[encoded data removed]",
      "text/plain": [
       "<Figure size 432x288 with 1 Axes>"
      ]
     },
     "metadata": {
      "needs_background": "light"
     },
     "output_type": "display_data"
    }
   ],
   "source": [
    "plt.plot(eg, ps_acc)"
   ]
  },
  {
   "cell_type": "code",
   "execution_count": 17,
   "id": "geological-birmingham",
   "metadata": {},
   "outputs": [
    {
     "name": "stdout",
     "output_type": "stream",
     "text": [
      "min energy:\n",
      "5.8523\n",
      "max energy:\n",
      "11.94244\n"
     ]
    }
   ],
   "source": [
    "print(\"min energy:\")\n",
    "print(par[1]*2)\n",
    "print(\"max energy:\")\n",
    "print(par[2]*2)"
   ]
  }
 ],
 "metadata": {
  "kernelspec": {
   "display_name": "Python 3",
   "language": "python",
   "name": "python3"
  },
  "language_info": {
   "codemirror_mode": {
    "name": "ipython",
    "version": 3
   },
   "file_extension": ".py",
   "mimetype": "text/x-python",
   "name": "python",
   "nbconvert_exporter": "python",
   "pygments_lexer": "ipython3",
   "version": "3.8.6"
  }
 },
 "nbformat": 4,
 "nbformat_minor": 5
}
