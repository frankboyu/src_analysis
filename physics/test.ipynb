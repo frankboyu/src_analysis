{
 "cells": [
  {
   "cell_type": "markdown",
   "id": "defined-rebecca",
   "metadata": {},
   "source": [
    "## Initialization"
   ]
  },
  {
   "cell_type": "markdown",
   "id": "complicated-warrant",
   "metadata": {},
   "source": [
    "### Packages"
   ]
  },
  {
   "cell_type": "code",
   "execution_count": 2,
   "id": "different-crystal",
   "metadata": {},
   "outputs": [],
   "source": [
    "# Import packages\n",
    "import numpy as np\n",
    "import ROOT as root\n",
    "import matplotlib\n",
    "import matplotlib.pyplot as plt\n",
    "\n",
    "from scipy.optimize import curve_fit\n",
    "from matplotlib.backends.backend_pdf import PdfPages"
   ]
  },
  {
   "cell_type": "markdown",
   "id": "nominated-child",
   "metadata": {},
   "source": [
    "### Functions"
   ]
  },
  {
   "cell_type": "code",
   "execution_count": 16,
   "id": "handed-coalition",
   "metadata": {},
   "outputs": [],
   "source": [
    "def create_yield_hist(edges_minust):\n",
    "    yield_hist = []\n",
    "    for i in range(len(edges_minust)):\n",
    "        yield_hist_energy = []\n",
    "        for j in range(len(edges_minust[i])-1):\n",
    "            yield_hist_minust = root.TH1F(\"\", \"\", hist_bins, hist_low, hist_high)\n",
    "            yield_hist_energy.append(yield_hist_minust)\n",
    "        yield_hist.append(yield_hist_energy)\n",
    "    return yield_hist\n",
    "\n",
    "def create_zero_list(edges_minust):\n",
    "    zero_list = []\n",
    "    for i in range(len(edges_minust)):\n",
    "        zero_list_energy = []\n",
    "        for j in range(len(edges_minust[i])-1):\n",
    "            zero_list_energy.append(0)\n",
    "        zero_list.append(zero_list_energy)\n",
    "    return zero_list\n",
    "\n",
    "def hist_points_1D(hist):\n",
    "    Nbins = hist.GetNbinsX()\n",
    "    x, y, x_err, y_err = np.empty(Nbins), np.empty(Nbins), np.empty(Nbins), np.empty(Nbins)\n",
    "    for i in range(Nbins):\n",
    "        x[i], y[i], x_err[i], y_err[i]  = hist.GetBinCenter(i+1), hist.GetBinContent(i+1), hist.GetBinWidth(i+1), hist.GetBinError(i+1)\n",
    "    return [x, y, x_err, y_err]\n",
    "\n",
    "def hist_points_2D(hist):\n",
    "    NbinsX, NbinsY = hist.GetNbinsX(), hist.GetNbinsY()\n",
    "    x_edges, y_edges = np.empty(NbinsX+1), np.empty(NbinsY+1)\n",
    "    z, z_err = np.empty([NbinsX, NbinsY]), np.empty([NbinsX, NbinsY])\n",
    "    \n",
    "    for i in range(NbinsX):\n",
    "        x_edges[i] = hist.GetXaxis().GetBinLowEdge(i+1)\n",
    "    x_edges[-1] = hist.GetXaxis().GetBinUpEdge(NbinsX)\n",
    "    for j in range(NbinsY):\n",
    "        y_edges[j] = hist.GetYaxis().GetBinLowEdge(j+1)\n",
    "    y_edges[-1] = hist.GetYaxis().GetBinUpEdge(NbinsY)\n",
    "    \n",
    "    for i in range(NbinsX):\n",
    "        for j in range(NbinsY):\n",
    "            z[i,j] = hist.GetBinContent(i+1, j+1)\n",
    "            z_err[i,j] = hist.GetBinError(i+1, j+1)\n",
    "            \n",
    "    return [x_edges, y_edges, z, z_err]\n",
    "\n",
    "def double_gaussian(x, c1, sigma1, c2, sigma2, mu):\n",
    "    return c1/sigma1/np.sqrt(2*np.pi)*np.exp(-(x-mu)**2/(2*sigma1**2)) + c2/sigma2/np.sqrt(2*np.pi)*np.exp(-(x-mu)**2/(2*sigma2**2))\n",
    "\n",
    "def double_gaussian_plus_linear(x, c1, sigma1, c2, sigma2, mu, a, b):\n",
    "    return c1/sigma1/np.sqrt(2*np.pi)*np.exp(-(x-mu)**2/(2*sigma1**2)) + c2/sigma2/np.sqrt(2*np.pi)*np.exp(-(x-mu)**2/(2*sigma2**2)) + a*x + b\n",
    "\n",
    "def gaussian(x, c, sigma, mu):\n",
    "    return c/sigma/np.sqrt(2*np.pi)*np.exp(-(x-mu)**2/(2*sigma**2))\n",
    "\n",
    "def gaussian_plus_linear(x, c, sigma, mu, a, b):\n",
    "    return c/sigma/np.sqrt(2*np.pi)*np.exp(-(x-mu)**2/(2*sigma**2)) + a*x + b"
   ]
  },
  {
   "cell_type": "markdown",
   "id": "muslim-strap",
   "metadata": {},
   "source": [
    "### Constants"
   ]
  },
  {
   "cell_type": "code",
   "execution_count": 4,
   "id": "reported-spread",
   "metadata": {},
   "outputs": [],
   "source": [
    "edges_tagger = [266, 248, 228, 177, 126, 64, 0,]\n",
    "\n",
    "edges_energy = []\n",
    "tagger_bins = np.loadtxt(\"/work/halld2/home/boyu/src_analysis/flux/output/deuterium/flux_corr_90207.txt\")\n",
    "for tagger in edges_tagger:\n",
    "    if tagger != 0:\n",
    "        edges_energy.append(tagger_bins[tagger-1][2])\n",
    "    else:\n",
    "        edges_energy.append(tagger_bins[tagger][4])\n",
    "        \n",
    "edges_minust = [\n",
    "                [0.1, 0.2, 0.3, 0.4, 0.5, 0.6, 0.7, 0.8, 0.9, 1.0, 1.2, 1.5, 1.8, 8.0, 10.0, 11.5],\n",
    "                [0.1, 0.2, 0.3, 0.4, 0.5, 0.6, 0.7, 0.8, 0.9, 1.0, 1.2, 1.5, 1.8, 2.5, 8.0, 10.0, 12.0, 13.5],\n",
    "                [0.1, 0.2, 0.3, 0.4, 0.5, 0.6, 0.7, 0.8, 0.9, 1.0, 1.2, 1.6, 2.0, 6.0, 10.0, 11.0, 12.0, 13.0, 13.5],\n",
    "                [0.1, 0.2, 0.3, 0.4, 0.5, 0.6, 0.7, 0.8, 0.9, 1.0, 1.2, 1.5, 2.0, 2.5, 10.0, 12.0, 13.5, 14.5],\n",
    "                [0.1, 0.2, 0.3, 0.4, 0.5, 0.6, 0.7, 0.8, 0.9, 1.0, 1.2, 1.5, 2.0, 2.5, 6.5, 12.0, 13.5, 14.5, 15.5, 16.5],\n",
    "                [0.1, 0.2, 0.3, 0.4, 0.5, 0.7, 1.0, 1.5, 2.2, 3.0, 4.5, 12.5, 15.0, 16.5],\n",
    "               ]\n",
    "\n",
    "hist_low = -2.0\n",
    "hist_high = 4.0\n",
    "hist_bins = 60\n",
    "hist_norm = (hist_high - hist_low)/hist_bins"
   ]
  },
  {
   "cell_type": "markdown",
   "id": "imposed-hepatitis",
   "metadata": {},
   "source": [
    "## Yield extraction"
   ]
  },
  {
   "cell_type": "markdown",
   "id": "rational-attraction",
   "metadata": {},
   "source": [
    "### Data"
   ]
  },
  {
   "cell_type": "code",
   "execution_count": 31,
   "id": "comfortable-filter",
   "metadata": {},
   "outputs": [],
   "source": [
    "file_data   = root.TFile(\"/work/halld2/home/boyu/src_analysis/selection/output/flattree_piminus_p_2H_data.root\")\n",
    "tree_data   = file_data.Get(\"piminus_p_2H_recon\")\n",
    "yield_hist_data = create_yield_hist(edges_minust)\n",
    "hist_pt = root.TH2F(\"pt\", \"pt\", 60, 5, 11, 20, 0, 2)\n",
    "hist_ptp = root.TH2F(\"ptp\", \"ptp\", 10, 0, 2, 20, 0, 2)\n",
    "\n",
    "for i in range(tree_data.GetEntries()):\n",
    "    tree_data.GetEntry(i)\n",
    "    BeamP4_Measured    = tree_data.BeamP4_Measured\n",
    "    PiMinusP4_Measured = tree_data.PiMinusP4_Measured\n",
    "    ProtonP4_Measured  = tree_data.ProtonP4_Measured\n",
    "    MissingP4_Measured = tree_data.MissingP4_Measured\n",
    "    AccidWeight      = tree_data.HistAccidWeightFactor\n",
    "    \n",
    "    MinusT_Measured = -(BeamP4_Measured - PiMinusP4_Measured).Mag2()\n",
    "    \n",
    "    hist_pt.Fill(BeamP4_Measured.E(), ProtonP4_Measured.Pt(), AccidWeight)\n",
    "    hist_ptp.Fill(ProtonP4_Measured.P(), ProtonP4_Measured.Pt(), AccidWeight)\n",
    "    \n",
    "    for j in range(len(edges_energy)-1):\n",
    "        if BeamP4_Measured.E() < edges_energy[j+1]:\n",
    "            for k in range(len(edges_minust[j])-1):\n",
    "                if MinusT_Measured < edges_minust[j][k+1]:\n",
    "                    yield_hist_data[j][k].Fill(MissingP4_Measured.M2(), AccidWeight)\n",
    "                    break\n",
    "            break\n",
    "\n",
    "yield_data = []\n",
    "yield_data_err = []\n",
    "\n",
    "with PdfPages('output/fit_piminus_p_2H_data.pdf') as pdf:\n",
    "\n",
    "    for i in range(len(edges_energy)-1):\n",
    "        \n",
    "        yield_data_energy = []\n",
    "        yield_data_err_energy = []\n",
    "        \n",
    "        for j in range(len(edges_minust[i])-1):\n",
    "            \n",
    "            points = hist_points_1D(yield_hist_data[i][j])\n",
    "\n",
    "            popt, pcov = curve_fit(gaussian, points[0][points[1].nonzero()], points[1][points[1].nonzero()], sigma=points[3][points[1].nonzero()], absolute_sigma=True, p0=[points[1].sum()/100, 0.4, 0.95], bounds=[[0, 0.1, 0.5], [points[1].sum(), 1, 1.3]])\n",
    "            perr = np.sqrt(np.diag(pcov))\n",
    "            \n",
    "            yield_data_energy.append(popt[0]/hist_norm)\n",
    "            yield_data_err_energy.append(perr[0]/hist_norm)\n",
    "\n",
    "            fig, ax = plt.subplots(figsize=(10, 7))\n",
    "            plt.errorbar(points[0], points[1], xerr=points[2], yerr=points[3], fmt='o')\n",
    "            plt.plot(np.linspace(-2, 4, 1000), gaussian(np.linspace(-2, 4, 1000), popt[0], popt[1], popt[2]))\n",
    "            plt.xlabel('$M^2_{miss} [GeV^2]$')\n",
    "            plt.ylabel('Counts/0.02 $GeV^2$')\n",
    "            plt.text(1, 1, \\\n",
    "                     '${0:.3f} \\, GeV \\, < \\, E_\\\\gamma \\, < \\, {1:.3f} \\, GeV$ \\n \\\n",
    "                      ${2:.1f} \\, GeV^2 \\, < \\, -t \\, < \\, {3:.1f} \\, GeV^2$ \\n \\\n",
    "                      $N_{{\\\\pi^-}} \\, = \\, {4:.3f} \\, \\pm \\, {5:.3f}$ \\n \\\n",
    "                      $\\sigma \\, = \\, {6:.3f} \\, \\pm \\, {7:.3f} \\, GeV^2$ \\n \\\n",
    "                      $M^2_p \\, = \\, {8:.3f} \\, \\pm \\, {9:.3f} \\, GeV^2$'\\\n",
    "                     .format(edges_energy[i], edges_energy[i+1], edges_minust[i][j], edges_minust[i][j+1], popt[0]/hist_norm, perr[0]/hist_norm, popt[1], perr[1], popt[2], perr[2]), \\\n",
    "                     fontsize=15, ha='right', va='top', transform=ax.transAxes\\\n",
    "                    )\n",
    "\n",
    "            pdf.savefig()\n",
    "            plt.close()\n",
    "        \n",
    "        yield_data.append(yield_data_energy)\n",
    "        yield_data_err.append(yield_data_err_energy)"
   ]
  },
  {
   "cell_type": "code",
   "execution_count": 26,
   "id": "registered-buyer",
   "metadata": {},
   "outputs": [
    {
     "data": {
      "text/plain": [
       "Text(0, 0.5, '$E_{\\\\gamma}$ [GeV]')"
      ]
     },
     "execution_count": 26,
     "metadata": {},
     "output_type": "execute_result"
    },
    {
     "data": {
      "image/png": "[encoded data removed]",
      "text/plain": [
       "<Figure size 432x288 with 1 Axes>"
      ]
     },
     "metadata": {
      "needs_background": "light"
     },
     "output_type": "display_data"
    }
   ],
   "source": [
    "pt_points = hist_points_2D(hist_pt)\n",
    "plt.pcolormesh(pt_points[1],pt_points[0],pt_points[2])\n",
    "plt.xlabel(\"Pion $P_T$ [GeV]\")\n",
    "plt.ylabel(\"$E_{\\gamma}$ [GeV]\")"
   ]
  },
  {
   "cell_type": "code",
   "execution_count": 27,
   "id": "sunset-movement",
   "metadata": {},
   "outputs": [
    {
     "data": {
      "text/plain": [
       "Text(0, 0.5, 'Pion $P$ [GeV]')"
      ]
     },
     "execution_count": 27,
     "metadata": {},
     "output_type": "execute_result"
    },
    {
     "data": {
      "image/png": "[encoded data removed]",
      "text/plain": [
       "<Figure size 432x288 with 1 Axes>"
      ]
     },
     "metadata": {
      "needs_background": "light"
     },
     "output_type": "display_data"
    }
   ],
   "source": [
    "ptp_points = hist_points_2D(hist_ptp)\n",
    "plt.pcolormesh(ptp_points[1],ptp_points[0],ptp_points[2])\n",
    "plt.xlabel(\"Pion $P_T$ [GeV]\")\n",
    "plt.ylabel(\"Pion $P$ [GeV]\")"
   ]
  },
  {
   "cell_type": "code",
   "execution_count": 32,
   "id": "virtual-gregory",
   "metadata": {},
   "outputs": [
    {
     "data": {
      "text/plain": [
       "Text(0, 0.5, 'Proton $P$ [GeV]')"
      ]
     },
     "execution_count": 32,
     "metadata": {},
     "output_type": "execute_result"
    },
    {
     "data": {
      "image/png": "[encoded data removed]",
      "text/plain": [
       "<Figure size 432x288 with 1 Axes>"
      ]
     },
     "metadata": {
      "needs_background": "light"
     },
     "output_type": "display_data"
    }
   ],
   "source": [
    "ptp_points = hist_points_2D(hist_ptp)\n",
    "plt.pcolormesh(ptp_points[1],ptp_points[0],ptp_points[2])\n",
    "plt.xlabel(\"Proton $P_T$ [GeV]\")\n",
    "plt.ylabel(\"Proton $P$ [GeV]\")"
   ]
  },
  {
   "cell_type": "markdown",
   "id": "robust-nomination",
   "metadata": {},
   "source": [
    "### Sim"
   ]
  },
  {
   "cell_type": "code",
   "execution_count": 8,
   "id": "advanced-suite",
   "metadata": {},
   "outputs": [],
   "source": [
    "file_sim    = root.TFile(\"/work/halld2/home/boyu/src_analysis/selection/output/flattree_piminus_p_2H_sim.root\")\n",
    "tree_sim    = file_sim.Get(\"piminus_p_2H_recon\")\n",
    "yield_hist_sim = create_yield_hist(edges_minust)\n",
    "\n",
    "for i in range(tree_sim.GetEntries()):\n",
    "    tree_sim.GetEntry(i)\n",
    "    BeamP4_Measured    = tree_sim.BeamP4_Measured\n",
    "    PiMinusP4_Measured = tree_sim.PiMinusP4_Measured\n",
    "    ProtonP4_Measured  = tree_sim.ProtonP4_Measured\n",
    "    MissingP4_Measured = tree_sim.MissingP4_Measured\n",
    "    AccidWeight      = tree_sim.HistAccidWeightFactor\n",
    "    L1TriggerBits    = tree_sim.L1TriggerBits\n",
    "    \n",
    "    MinusT_Measured = -(BeamP4_Measured - PiMinusP4_Measured).Mag2()\n",
    "    \n",
    "    if L1TriggerBits == 0:\n",
    "        continue\n",
    "    \n",
    "    for j in range(len(edges_energy)-1):\n",
    "        if BeamP4_Measured.E() < edges_energy[j+1]:\n",
    "            for k in range(len(edges_minust[j])-1):\n",
    "                if MinusT_Measured < edges_minust[j][k+1]:\n",
    "                    yield_hist_sim[j][k].Fill(MissingP4_Measured.M2(), AccidWeight)\n",
    "                    break\n",
    "            break\n",
    "\n",
    "yield_sim = []\n",
    "yield_sim_err = []\n",
    "\n",
    "from matplotlib.backends.backend_pdf import PdfPages\n",
    "with PdfPages('output/fit_piminus_p_2H_sim.pdf') as pdf:\n",
    "\n",
    "    for i in range(len(edges_energy)-1):\n",
    "        \n",
    "        yield_sim_energy = []\n",
    "        yield_sim_err_energy = []\n",
    "        \n",
    "        for j in range(len(edges_minust[i])-1):\n",
    "            \n",
    "            points = hist_points_1D(yield_hist_sim[i][j])\n",
    "\n",
    "            popt, pcov = curve_fit(gaussian, points[0][points[1].nonzero()], points[1][points[1].nonzero()], sigma=points[3][points[1].nonzero()], absolute_sigma=True, p0=[points[1].sum()/100, 0.4, 0.95], bounds=[[0, 0.1, 0.5], [points[1].sum(), 1, 1.3]])\n",
    "            perr = np.sqrt(np.diag(pcov))\n",
    "            \n",
    "            yield_sim_energy.append(popt[0]/hist_norm)\n",
    "            yield_sim_err_energy.append(perr[0]/hist_norm)\n",
    "\n",
    "            fig, ax = plt.subplots(figsize=(10, 7))\n",
    "            plt.errorbar(points[0], points[1], xerr=points[2], yerr=points[3], fmt='o')\n",
    "            plt.plot(np.linspace(-2, 4, 1000), gaussian(np.linspace(-2, 4, 1000), popt[0], popt[1], popt[2]))\n",
    "            plt.xlabel('$M^2_{miss} [GeV^2]$')\n",
    "            plt.ylabel('Counts/0.02 $GeV^2$')\n",
    "            plt.text(1, 1, \\\n",
    "                     '${0:.3f} \\, GeV \\, < \\, E_\\\\gamma \\, < \\, {1:.3f} \\, GeV$ \\n \\\n",
    "                      ${2:.1f} \\, GeV^2 \\, < \\, -t \\, < \\, {3:.1f} \\, GeV^2$ \\n \\\n",
    "                      $N_{{\\\\pi^-}} \\, = \\, {4:.3f} \\, \\pm \\, {5:.3f}$ \\n \\\n",
    "                      $\\sigma \\, = \\, {6:.3f} \\, \\pm \\, {7:.3f} \\, GeV^2$ \\n \\\n",
    "                      $M^2_p \\, = \\, {8:.3f} \\, \\pm \\, {9:.3f} \\, GeV^2$'\\\n",
    "                     .format(edges_energy[i], edges_energy[i+1], edges_minust[i][j], edges_minust[i][j+1], popt[0]/hist_norm, perr[0]/hist_norm, popt[1], perr[1], popt[2], perr[2]), \\\n",
    "                     fontsize=15, ha='right', va='top', transform=ax.transAxes\\\n",
    "                    )\n",
    "\n",
    "            pdf.savefig()\n",
    "            plt.close()\n",
    "            \n",
    "        yield_sim.append(yield_sim_energy)\n",
    "        yield_sim_err.append(yield_sim_err_energy)"
   ]
  },
  {
   "cell_type": "markdown",
   "id": "gorgeous-evening",
   "metadata": {},
   "source": [
    "### Thrown"
   ]
  },
  {
   "cell_type": "code",
   "execution_count": 9,
   "id": "latin-sodium",
   "metadata": {},
   "outputs": [],
   "source": [
    "file_thrown = root.TFile(\"/work/halld2/home/boyu/src_analysis/selection/output/flattree_piminus_p_2H_thrown.root\")\n",
    "tree_thrown = file_thrown.Get(\"piminus_p_2H_thrown\")\n",
    "yield_thrown, yield_thrown_err = create_zero_list(edges_minust), create_zero_list(edges_minust)\n",
    "\n",
    "for i in range(tree_thrown.GetEntries()):\n",
    "    tree_thrown.GetEntry(i)\n",
    "    BeamP4_Thrown    = tree_thrown.BeamP4_Thrown\n",
    "    PiMinusP4_Thrown = tree_thrown.PiMinusP4_Thrown\n",
    "    ProtonP4_Thrown  = tree_thrown.ProtonP4_Thrown\n",
    "    MissingP4_Thrown = tree_thrown.MissingP4_Thrown\n",
    "    \n",
    "    MinusT_Thrown = -(BeamP4_Thrown - PiMinusP4_Thrown).Mag2()\n",
    "    \n",
    "    for j in range(len(edges_energy)-1):\n",
    "        if BeamP4_Thrown.E() < edges_energy[j+1]:\n",
    "            for k in range(len(edges_minust[j])-1):\n",
    "                if MinusT_Thrown < edges_minust[j][k+1]:\n",
    "                    yield_thrown[j][k] += 1\n",
    "                    yield_thrown_err[j][k] = np.sqrt(yield_thrown[j][k])\n",
    "                    break\n",
    "            break"
   ]
  },
  {
   "cell_type": "markdown",
   "id": "tropical-locator",
   "metadata": {},
   "source": [
    "## Cross section"
   ]
  },
  {
   "cell_type": "markdown",
   "id": "floating-airfare",
   "metadata": {},
   "source": [
    "### Acceptance"
   ]
  },
  {
   "cell_type": "code",
   "execution_count": 10,
   "id": "coral-helena",
   "metadata": {},
   "outputs": [],
   "source": [
    "acceptance, acceptance_error = create_zero_list(edges_minust), create_zero_list(edges_minust)\n",
    "for i in range(len(edges_energy)-1):\n",
    "    for j in range(len(edges_minust[i])-1):\n",
    "        acceptance[i][j] = yield_sim[i][j]/yield_thrown[i][j]\n",
    "        acceptance_error[i][j] = acceptance[i][j]*(yield_sim_err[i][j]/yield_sim[i][j] + yield_thrown_err[i][j]/yield_thrown[i][j])"
   ]
  },
  {
   "cell_type": "markdown",
   "id": "operating-pressing",
   "metadata": {},
   "source": [
    "### Luminosity"
   ]
  },
  {
   "cell_type": "code",
   "execution_count": 11,
   "id": "human-investment",
   "metadata": {},
   "outputs": [],
   "source": [
    "lumi = [18.5985329-16.4927209, 16.4927209-15.2246128, 15.2246128-13.5462486, 13.5462486-10.2872631, 10.2872631-3.9112386, 3.9112386]"
   ]
  },
  {
   "cell_type": "markdown",
   "id": "hundred-murray",
   "metadata": {},
   "source": [
    "### Raw cross section"
   ]
  },
  {
   "cell_type": "code",
   "execution_count": 12,
   "id": "unusual-broadcasting",
   "metadata": {},
   "outputs": [],
   "source": [
    "cs, cs_error = create_zero_list(edges_minust), create_zero_list(edges_minust)\n",
    "for i in range(len(edges_energy)-1):\n",
    "    for j in range(len(edges_minust[i])-1):\n",
    "        cs[i][j] = yield_data[i][j]/acceptance[i][j]/(edges_minust[i][j+1] - edges_minust[i][j])/lumi[i]/1000\n",
    "        cs_error[i][j] = cs[i][j]*(yield_data_err[i][j]/yield_data[i][j] + acceptance_error[i][j]/acceptance[i][j])"
   ]
  },
  {
   "cell_type": "markdown",
   "id": "electronic-alpha",
   "metadata": {},
   "source": [
    "### Plot"
   ]
  },
  {
   "cell_type": "code",
   "execution_count": 13,
   "id": "protected-bruce",
   "metadata": {},
   "outputs": [],
   "source": [
    "#Constants\n",
    "mass_neutron = 0.93956542052\n",
    "mass_proton  = 0.93827208816\n",
    "mass_piminus = 0.13957039\n",
    "mass_photon  = 0\n",
    "rad_to_deg = 180/3.1415926535897932\n",
    "\n",
    "#Function to convert the square root of s to the photon energy, assuming neutron at rest\n",
    "def SqrtS_to_Eg(SqrtS):\n",
    "    return (SqrtS**2-mass_neutron**2)/(2*mass_neutron)\n",
    "\n",
    "#Function to convert the photon energy to the square root of s, assuming neutron at rest\n",
    "def Eg_to_SqrtS(Eg):\n",
    "    return np.sqrt(mass_neutron**2+2*mass_neutron*Eg)\n",
    "\n",
    "#Function to calculate the upper limit of minus t, given a specific center of mass energy squared s\n",
    "def abst_max(s):\n",
    "    return abs(mass_photon**2+mass_neutron**2+mass_piminus**2+mass_proton**2-s)\n",
    "\n",
    "#Function to calculate the charged pion ratio, given s and t\n",
    "def piminus_to_piplus_ratio(s,t):\n",
    "    u = mass_photon**2+mass_neutron**2+mass_piminus**2+mass_proton**2 - s - t\n",
    "    e_d = -1/3\n",
    "    e_u = 2/3\n",
    "    return ((e_d*u+e_u*s)/(e_u*u+e_d*s))**2"
   ]
  },
  {
   "cell_type": "code",
   "execution_count": 15,
   "id": "metric-silly",
   "metadata": {},
   "outputs": [
    {
     "data": {
      "text/plain": [
       "<matplotlib.legend.Legend at 0x7fd212874220>"
      ]
     },
     "execution_count": 15,
     "metadata": {},
     "output_type": "execute_result"
    },
    {
     "data": {
      "image/png": "[encoded data removed]",
      "text/plain": [
       "<Figure size 1200x800 with 1 Axes>"
      ]
     },
     "metadata": {
      "needs_background": "light"
     },
     "output_type": "display_data"
    }
   ],
   "source": [
    "plt.rcParams['figure.dpi'] = 200\n",
    "plt.xlabel(\"$-t/GeV^2$\")\n",
    "plt.ylabel(\"$d\\sigma/dt (nb/GeV^2)$\")\n",
    "plt.yscale('log')\n",
    "plt.title(\"$E_\\gamma$ = 7.5 GeV\")\n",
    "plt.ylim(1e-2, 1e3)\n",
    "plt.xlim(0,14)\n",
    "\n",
    "points1 = []\n",
    "points2 = []\n",
    "for i in range(len(edges_minust[2])-1):\n",
    "    points1.append((edges_minust[2][i]+edges_minust[2][i+1])/2)\n",
    "    points2.append((edges_minust[2][i]-edges_minust[2][i+1])/2)\n",
    "\n",
    "plt.errorbar(points1[:-1], cs[2][:-1], xerr = points2[:-1], yerr = cs_error[2][:-1], marker='.', fmt='o', label=\"$\\pi^- p $ (This work)\")\n",
    "plt.yscale('log')\n",
    "\n",
    "points_anderson = np.array([1.95, 2.24, 2.54, 3.02, 4.12, 5.04, 6.17, 6.61, 7.17, 8.23, 9.40, 10.43, 11.26, 11.63])\n",
    "cs_anderson = np.array([3.45, 1.15, 0.481, 0.212, 0.121, 0.065, 0.050, 0.045, 0.03, 0.059, 0.03, 0.169, 0.374, 0.83])\n",
    "cs_error_anderson = np.array([0.16, 0.12, 0.079, 0.051, 0.019, 0.023, 0.013, 0.019, 0.018, 0.033, 0.026, 0.038, 0.097, 0.14])\n",
    "pion_ratio = piminus_to_piplus_ratio(np.ones(14)*Eg_to_SqrtS(7.5)**2, -points_anderson)\n",
    "plt.errorbar(points_anderson, cs_anderson*pion_ratio, yerr=cs_error_anderson*pion_ratio, marker='.', fmt='o', label=\"scaled $\\pi^+ n $ (Anderson)\")\n",
    "\n",
    "plt.legend()"
   ]
  }
 ],
 "metadata": {
  "kernelspec": {
   "display_name": "Python 3",
   "language": "python",
   "name": "python3"
  },
  "language_info": {
   "codemirror_mode": {
    "name": "ipython",
    "version": 3
   },
   "file_extension": ".py",
   "mimetype": "text/x-python",
   "name": "python",
   "nbconvert_exporter": "python",
   "pygments_lexer": "ipython3",
   "version": "3.8.6"
  }
 },
 "nbformat": 4,
 "nbformat_minor": 5
}
