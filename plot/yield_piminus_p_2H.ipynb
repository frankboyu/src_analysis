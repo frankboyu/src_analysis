{
 "cells": [
  {
   "cell_type": "markdown",
   "id": "marine-harassment",
   "metadata": {},
   "source": [
    "## Initialize"
   ]
  },
  {
   "cell_type": "markdown",
   "id": "boring-salvation",
   "metadata": {},
   "source": [
    "### Packages"
   ]
  },
  {
   "cell_type": "code",
   "execution_count": 1,
   "id": "blind-anniversary",
   "metadata": {},
   "outputs": [
    {
     "name": "stdout",
     "output_type": "stream",
     "text": [
      "Welcome to JupyROOT 6.22/06\n"
     ]
    }
   ],
   "source": [
    "import numpy as np\n",
    "import ROOT as root\n",
    "import matplotlib\n",
    "import matplotlib.pyplot as plt"
   ]
  },
  {
   "cell_type": "markdown",
   "id": "julian-celebration",
   "metadata": {},
   "source": [
    "### Constants"
   ]
  },
  {
   "cell_type": "code",
   "execution_count": 2,
   "id": "arctic-senator",
   "metadata": {},
   "outputs": [],
   "source": [
    "bins_energy = np.loadtxt(\"input/bins_energy_piminus_p_2H.txt\")\n",
    "bins_theta = np.loadtxt(\"input/bins_theta_piminus_p_2H.txt\")\n",
    "\n",
    "RadToDeg = 180/np.pi"
   ]
  },
  {
   "cell_type": "markdown",
   "id": "humanitarian-infrastructure",
   "metadata": {},
   "source": [
    "## Yield extraction"
   ]
  },
  {
   "cell_type": "markdown",
   "id": "collectible-chester",
   "metadata": {},
   "source": [
    "### Data"
   ]
  },
  {
   "cell_type": "code",
   "execution_count": 10,
   "id": "editorial-confusion",
   "metadata": {},
   "outputs": [],
   "source": [
    "file_data   = root.TFile(\"/work/halld2/home/boyu/src_analysis/selection/output/flattree_piminus_p_2H_data.root\")\n",
    "tree_data   = file_data.Get(\"piminus_p_2H_recon\")\n",
    "yield_data = np.zeros([len(bins_energy), len(bins_theta)])\n",
    "error_data = np.zeros([len(bins_energy), len(bins_theta)])\n",
    "\n",
    "for i in range(tree_data.GetEntries()):\n",
    "    tree_data.GetEntry(i)\n",
    "    BeamP4_Measured    = tree_data.BeamP4_Measured\n",
    "    PiMinusP4_Measured = tree_data.PiMinusP4_Measured\n",
    "    ProtonP4_Measured  = tree_data.ProtonP4_Measured\n",
    "    MissingP4_Measured = tree_data.MissingP4_Measured\n",
    "    AccidWeight        = tree_data.HistAccidWeightFactor\n",
    "    \n",
    "    PhotonEnergy       = BeamP4_Measured.E()\n",
    "    \n",
    "    boost_Measured     = (PiMinusP4_Measured+ProtonP4_Measured).BoostVector()\n",
    "    BeamP4_Measured.Boost(-boost_Measured)\n",
    "    PiMinusP4_Measured.Boost(-boost_Measured)\n",
    "    ProtonP4_Measured.Boost(-boost_Measured)\n",
    "    MissingP4_Measured.Boost(-boost_Measured)\n",
    "\n",
    "    theta_Measured = BeamP4_Measured.Vect().Angle(PiMinusP4_Measured.Vect())*RadToDeg\n",
    "    \n",
    "    for j in range(len(bins_energy)):\n",
    "        if PhotonEnergy < bins_energy[j][2]:\n",
    "            for k in range(len(bins_theta)):\n",
    "                if theta_Measured < bins_theta[k][2]:\n",
    "                    yield_data[j,k] += AccidWeight\n",
    "                    error_data[j,k] += AccidWeight**2\n",
    "                    break\n",
    "            break\n",
    "\n",
    "error_data = np.sqrt(error_data)\n",
    "yield_data += 1e-6\n",
    "\n",
    "np.savetxt(\"output/yield_count_data_piminus_p_2H.txt\", yield_data)\n",
    "np.savetxt(\"output/yield_error_data_piminus_p_2H.txt\", error_data)"
   ]
  },
  {
   "cell_type": "markdown",
   "id": "personal-adobe",
   "metadata": {},
   "source": [
    "### Sim"
   ]
  },
  {
   "cell_type": "code",
   "execution_count": 4,
   "id": "white-consensus",
   "metadata": {},
   "outputs": [],
   "source": [
    "file_sim   = root.TFile(\"/work/halld2/home/boyu/src_analysis/selection/output/tttemp/flattree_piminus_p_2H_sim.root\")\n",
    "tree_sim   = file_sim.Get(\"piminus_p_2H_recon\")\n",
    "yield_sim = np.zeros([len(bins_energy), len(bins_theta)])\n",
    "error_sim = np.zeros([len(bins_energy), len(bins_theta)])\n",
    "\n",
    "for i in range(tree_sim.GetEntries()):\n",
    "    tree_sim.GetEntry(i)\n",
    "    BeamP4_Measured    = tree_sim.BeamP4_Measured\n",
    "    PiMinusP4_Measured = tree_sim.PiMinusP4_Measured\n",
    "    ProtonP4_Measured  = tree_sim.ProtonP4_Measured\n",
    "    MissingP4_Measured = tree_sim.MissingP4_Measured\n",
    "    AccidWeight        = tree_sim.HistAccidWeightFactor\n",
    "    L1TriggerBits      = tree_sim.L1TriggerBits\n",
    "\n",
    "    if L1TriggerBits == 0:\n",
    "        continue\n",
    "    \n",
    "    PhotonEnergy       = BeamP4_Measured.E()\n",
    "    \n",
    "    boost_Measured     = (PiMinusP4_Measured+ProtonP4_Measured).BoostVector()\n",
    "    BeamP4_Measured.Boost(-boost_Measured)\n",
    "    PiMinusP4_Measured.Boost(-boost_Measured)\n",
    "    ProtonP4_Measured.Boost(-boost_Measured)\n",
    "    MissingP4_Measured.Boost(-boost_Measured)\n",
    "\n",
    "    theta_Measured = BeamP4_Measured.Vect().Angle(PiMinusP4_Measured.Vect())*RadToDeg\n",
    "    \n",
    "    for j in range(len(bins_energy)):\n",
    "        if PhotonEnergy < bins_energy[j][2]:\n",
    "            for k in range(len(bins_theta)):\n",
    "                if theta_Measured < bins_theta[k][2]:\n",
    "                    yield_sim[j,k] += AccidWeight\n",
    "                    error_sim[j,k] += AccidWeight**2\n",
    "                    break\n",
    "            break\n",
    "\n",
    "error_sim = np.sqrt(error_sim)\n",
    "\n",
    "np.savetxt(\"output/yield_count_sim_piminus_p_2H.txt\", yield_sim)\n",
    "np.savetxt(\"output/yield_error_sim_piminus_p_2H.txt\", error_sim)"
   ]
  },
  {
   "cell_type": "markdown",
   "id": "prime-electricity",
   "metadata": {},
   "source": [
    "### Thrown"
   ]
  },
  {
   "cell_type": "code",
   "execution_count": 6,
   "id": "chief-kruger",
   "metadata": {},
   "outputs": [],
   "source": [
    "file_thrown   = root.TFile(\"/work/halld2/home/boyu/src_analysis/selection/output/tttemp/flattree_piminus_p_2H_thrown.root\")\n",
    "tree_thrown   = file_thrown.Get(\"piminus_p_2H_thrown\")\n",
    "yield_thrown = np.zeros([len(bins_energy), len(bins_theta)])\n",
    "error_thrown = np.zeros([len(bins_energy), len(bins_theta)])\n",
    "\n",
    "for i in range(tree_thrown.GetEntries()):\n",
    "    tree_thrown.GetEntry(i)\n",
    "    BeamP4_Thrown    = tree_thrown.BeamP4_Thrown\n",
    "    PiMinusP4_Thrown = tree_thrown.PiMinusP4_Thrown\n",
    "    ProtonP4_Thrown  = tree_thrown.ProtonP4_Thrown\n",
    "    MissingP4_Thrown = tree_thrown.MissingP4_Thrown\n",
    "    \n",
    "    PhotonEnergy       = BeamP4_Thrown.E()\n",
    "    \n",
    "    boost_Thrown     = (PiMinusP4_Thrown+ProtonP4_Thrown).BoostVector()\n",
    "    BeamP4_Thrown.Boost(-boost_Thrown)\n",
    "    PiMinusP4_Thrown.Boost(-boost_Thrown)\n",
    "    ProtonP4_Thrown.Boost(-boost_Thrown)\n",
    "    MissingP4_Thrown.Boost(-boost_Thrown)\n",
    "\n",
    "    theta_Thrown = BeamP4_Thrown.Vect().Angle(PiMinusP4_Thrown.Vect())*RadToDeg\n",
    "    \n",
    "    for j in range(len(bins_energy)):\n",
    "        if PhotonEnergy < bins_energy[j][2]:\n",
    "            for k in range(len(bins_theta)):\n",
    "                if theta_Thrown < bins_theta[k][2]:\n",
    "                    yield_thrown[j,k] += 1\n",
    "                    error_thrown[j,k] += 1\n",
    "                    break\n",
    "            break\n",
    "\n",
    "error_thrown = np.sqrt(error_thrown)\n",
    "yield_thrown += 1e-6\n",
    "\n",
    "np.savetxt(\"output/yield_count_thrown_piminus_p_2H.txt\", yield_thrown)\n",
    "np.savetxt(\"output/yield_error_thrown_piminus_p_2H.txt\", error_thrown)"
   ]
  },
  {
   "cell_type": "code",
   "execution_count": null,
   "id": "defined-phrase",
   "metadata": {},
   "outputs": [],
   "source": []
  }
 ],
 "metadata": {
  "kernelspec": {
   "display_name": "Python 3",
   "language": "python",
   "name": "python3"
  },
  "language_info": {
   "codemirror_mode": {
    "name": "ipython",
    "version": 3
   },
   "file_extension": ".py",
   "mimetype": "text/x-python",
   "name": "python",
   "nbconvert_exporter": "python",
   "pygments_lexer": "ipython3",
   "version": "3.8.6"
  }
 },
 "nbformat": 4,
 "nbformat_minor": 5
}
